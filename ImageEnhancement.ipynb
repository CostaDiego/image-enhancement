{
 "cells": [
  {
   "cell_type": "code",
   "execution_count": 1,
   "metadata": {},
   "outputs": [],
   "source": [
    "# Declaração de bibliotecas específicas\n",
    "import cv2\n",
    "import matplotlib.pyplot as plt\n",
    "import numpy as np\n",
    "\n",
    "## plota os gráficos em novas janelas\n",
    "#%matplotlib qt\n",
    "\n",
    "## plota os gráficos dentro da célula\n",
    "%matplotlib inline"
   ]
  },
  {
   "cell_type": "code",
   "execution_count": null,
   "metadata": {},
   "outputs": [],
   "source": [
    "#Define some constants\n",
    "CLAHE_CLIP_LIMIT = 3.0\n",
    "CLAHE_TILE_GRID_SIZE = (8,8)"
   ]
  },
  {
   "cell_type": "code",
   "execution_count": null,
   "metadata": {},
   "outputs": [],
   "source": [
    "def applyCLAHE(image, clipLimit=CLAHE_CLIP_LIMIT, tileGridSize=CLAHE_TILE_GRID_SIZE):\n",
    "\n",
    "    #-----Converting image to LAB Color model----------------------------------- \n",
    "    labImage = cv2.cvtColor(image, cv2.COLOR_BGR2LAB)\n",
    "\n",
    "    #-----Splitting the LAB image to different channels-------------------------\n",
    "    lChannel,aChannel,bChannel = cv2.split(labImage)\n",
    "\n",
    "    #-----Applying CLAHE to L-channel-------------------------------------------\n",
    "    clahe = cv2.createCLAHE(clipLimit=clipLimit, tileGridSize=tileGridSize)\n",
    "    claheLChannel = clahe.apply(lChannel)\n",
    "\n",
    "    #-----Merge the CLAHE enhanced L-channel with the a and b channel-----------\n",
    "    claheLABImage = cv2.merge((claheLChannel,aChannel,bChannel))\n",
    "\n",
    "    #-----Converting image from LAB Color model to RGB model--------------------\n",
    "    claheFinalImage = cv2.cvtColor(claheLABImage, cv2.COLOR_LAB2BGR)\n",
    "\n",
    "    return claheFinalImage\n",
    "\n",
    "def visualize(**images):\n",
    "    \"\"\"PLot images in one row.\"\"\"\n",
    "    n = len(images)\n",
    "    pyplot.figure(figsize=(16, 5))\n",
    "    for i, (name, image) in enumerate(images.items()):\n",
    "        pyplot.subplot(1, n, i + 1)\n",
    "        pyplot.xticks([])\n",
    "        pyplot.yticks([])\n",
    "        pyplot.title(' '.join(name.split('_')).title())\n",
    "        pyplot.imshow(image)\n"
   ]
  },
  {
   "cell_type": "code",
   "execution_count": null,
   "metadata": {},
   "outputs": [],
   "source": []
  }
 ],
 "metadata": {
  "kernelspec": {
   "display_name": "ceia",
   "language": "python",
   "name": "ceia"
  },
  "language_info": {
   "codemirror_mode": {
    "name": "ipython",
    "version": 3
   },
   "file_extension": ".py",
   "mimetype": "text/x-python",
   "name": "python",
   "nbconvert_exporter": "python",
   "pygments_lexer": "ipython3",
   "version": "3.7.8"
  }
 },
 "nbformat": 4,
 "nbformat_minor": 4
}
